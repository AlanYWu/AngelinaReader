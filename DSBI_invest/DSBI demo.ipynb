{
 "cells": [
  {
   "cell_type": "code",
   "execution_count": null,
   "metadata": {},
   "outputs": [],
   "source": [
    "data_dir = r'D:\\Programming\\Braille\\Data\\DSBI\\data'\n",
    "file = 'Massage/M+5+recto'"
   ]
  },
  {
   "cell_type": "code",
   "execution_count": null,
   "metadata": {},
   "outputs": [],
   "source": [
    "import cv2\n",
    "import os\n",
    "import numpy as np\n",
    "import matplotlib.pyplot as plt\n",
    "\n",
    "file_jpg = os.path.join(data_dir, file) + '.jpg'\n",
    "file_txt = os.path.join(data_dir, file) + '.txt'\n",
    "file_jpg"
   ]
  },
  {
   "cell_type": "code",
   "execution_count": null,
   "metadata": {},
   "outputs": [],
   "source": [
    "import dsbi\n",
    "                    \n",
    "angle, h_lines, v_lines, cells = dsbi.read_txt(file_txt)        "
   ]
  },
  {
   "cell_type": "code",
   "execution_count": null,
   "metadata": {},
   "outputs": [],
   "source": [
    "img = cv2.cvtColor(cv2.imread(file_jpg), cv2.COLOR_BGR2RGB)\n",
    "img.shape, max(h_lines), max(v_lines)"
   ]
  },
  {
   "cell_type": "code",
   "execution_count": null,
   "metadata": {},
   "outputs": [],
   "source": [
    "cells = [c for c in cells[:5] if c.label != '000000']"
   ]
  },
  {
   "cell_type": "code",
   "execution_count": null,
   "metadata": {
    "scrolled": false
   },
   "outputs": [],
   "source": [
    "cells"
   ]
  },
  {
   "cell_type": "code",
   "execution_count": null,
   "metadata": {},
   "outputs": [],
   "source": [
    "#for h_ln in h_lines:\n",
    "#    cv2.line(img,(0,h_ln),(img.shape[1],h_ln),(255,0,0,200),2)\n",
    "#for v_ln in v_lines:\n",
    "#    cv2.line(img,(v_ln,0),(v_ln,img.shape[0]),(0,255,0,50),2)\n",
    "\n",
    "cell_mean_width = np.mean(np.asarray(v_lines[1::2])-np.asarray(v_lines[:-1:2]))\n",
    "cell_mean_height = np.mean(np.asarray(h_lines[2::3])-np.asarray(h_lines[:-2:3]))\n",
    "w_margin = int(cell_mean_width*0.5)\n",
    "#h_margin = int(cell_mean_height*0.5)\n",
    "for cl in cells:\n",
    "    if cl.label != '000000':\n",
    "        cv2.rectangle(img,(cl.left - w_margin, cl.top - w_margin),\n",
    "                  (cl.right + w_margin, cl.bottom + w_margin),(0,255,0,50),2)\n",
    "    "
   ]
  },
  {
   "cell_type": "code",
   "execution_count": null,
   "metadata": {},
   "outputs": [],
   "source": [
    "fig, ax = plt.subplots(figsize=(50, 15))\n",
    "print(file_jpg, len(h_lines), len(v_lines))\n",
    "ax.imshow(img)"
   ]
  },
  {
   "cell_type": "code",
   "execution_count": null,
   "metadata": {},
   "outputs": [],
   "source": [
    "(np.asarray(h_lines[2:])-np.asarray(h_lines[:-2]))[::3].mean()\n"
   ]
  },
  {
   "cell_type": "code",
   "execution_count": null,
   "metadata": {},
   "outputs": [],
   "source": [
    "dy = 0.15\n",
    "dx = 0.3\n",
    "\n",
    "for cl in cells:\n",
    "    w = int((cl.right - cl.left)*dx)\n",
    "    h = int((cl.bottom - cl.top)*dy)\n",
    "    print(cl.label)\n",
    "    for i in range(6):\n",
    "        if cl.label[i] == '1':\n",
    "            iy = i % 3\n",
    "            ix = i - iy\n",
    "            if ix == 0:\n",
    "                xc = cl.left\n",
    "            else:\n",
    "                xc = cl.right\n",
    "            lf, rt = xc - w, xc + w\n",
    "            if iy == 0:\n",
    "                yc = cl.top\n",
    "            elif iy == 1:\n",
    "                yc = (cl.top + cl.bottom) // 2\n",
    "            else:\n",
    "                yc = cl.bottom\n",
    "            tp, bt = yc - h, yc + h\n",
    "            print(iy, ix)\n",
    "            cv2.rectangle(img,(lf, tp),\n",
    "                  (rt, bt),(127,127,0,50),2)\n",
    "    "
   ]
  },
  {
   "cell_type": "code",
   "execution_count": null,
   "metadata": {},
   "outputs": [],
   "source": [
    "fig, ax = plt.subplots(figsize=(50, 15))\n",
    "print(file_jpg, len(h_lines), len(v_lines))\n",
    "ax.imshow(img)"
   ]
  },
  {
   "cell_type": "code",
   "execution_count": null,
   "metadata": {},
   "outputs": [],
   "source": []
  }
 ],
 "metadata": {
  "kernelspec": {
   "display_name": "Python 3",
   "language": "python",
   "name": "python3"
  },
  "language_info": {
   "codemirror_mode": {
    "name": "ipython",
    "version": 3
   },
   "file_extension": ".py",
   "mimetype": "text/x-python",
   "name": "python",
   "nbconvert_exporter": "python",
   "pygments_lexer": "ipython3",
   "version": "3.6.4"
  }
 },
 "nbformat": 4,
 "nbformat_minor": 2
}
